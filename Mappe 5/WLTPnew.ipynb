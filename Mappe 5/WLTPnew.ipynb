{
 "cells": [
  {
   "cell_type": "code",
   "execution_count": 26,
   "id": "8ecbd7ba-ec01-4f9d-9136-efe5a55909bd",
   "metadata": {},
   "outputs": [],
   "source": [
    "url = \"https://www.motor.no/bil/sjekk-motors-rekkevidde-resultater-bilmodell-for-bilmodell/202424\""
   ]
  },
  {
   "cell_type": "code",
   "execution_count": 27,
   "id": "51db34a0-e29b-4140-ad2a-724ad3e3354a",
   "metadata": {},
   "outputs": [],
   "source": [
    "from bs4 import BeautifulSoup\n",
    "import requests\n",
    "\n",
    "def fetch_html_tables(url):\n",
    "    \"Returns a list of tables in the html of url\"\n",
    "    page = requests.get(url)\n",
    "    bs=BeautifulSoup(page.content)\n",
    "    tables=bs.find_all('table')\n",
    "    return tables\n",
    "tables=fetch_html_tables('https://www.motor.no/bil/sjekk-motors-rekkevidde-resultater-bilmodell-for-bilmodell/202424')\n",
    "table_html=tables[0]"
   ]
  },
  {
   "cell_type": "code",
   "execution_count": 28,
   "id": "59b77c3e-de92-44e1-8e7c-2ed903c5de42",
   "metadata": {},
   "outputs": [
    {
     "name": "stdout",
     "output_type": "stream",
     "text": [
      "<table class=\"\">\n",
      "<thead>\n",
      "<tr>\n",
      "<td>\n",
      "            \n",
      "            Bilmodell\n",
      "            </td>\n",
      "<td>\n",
      "            \n",
      "            Test\n",
      "            </td>\n",
      "<td>\n",
      "            \n",
      "            Rekkevidde i testen\n",
      "            </td>\n",
      "<td>\n",
      "            \n",
      "            Oppgitt WLTP\n",
      "            </td>\n",
      "<td>\n",
      "            \n",
      "            Avvik i prosent\n",
      "            </td>\n",
      "<td>\n",
      "            \n",
      "            Forbruk (målt) kWt/ 100km\n",
      "            </td>\n",
      "<td>\n",
      "            \n",
      "            Forbruk (oppgitt) kWt/ 100km\n",
      "            </td>\n",
      "<td>\n",
      "            \n",
      "            Utstyrsnivå\n",
      "            </td>\n",
      "</tr>\n",
      "</thead>\n",
      "<tbody>\n",
      "<tr><td>Audi e-tron 55</td><td>Sommer 2020</td><td>399 km</td><td>370 km</td><td>7,83</td><td>20,3</td><td>24,3</td><td>Advanced Business</td></tr>\n",
      "<tr><td>Audi e-tron 55 Sportback</td><td>Sommer 2020</td><td>436 km</td><td>376 km</td><td>15,95</td><td>19,8</td><td>23,9</td><td>S-Line</td></tr>\n",
      "<tr><td>Audi e-tron Quattro 50</td><td>Vinter 2020</td><td>259 km</td><td>332 km</td><td>−13,38</td><td>N/A</td><td>23,9</td><td>Advance\n"
     ]
    }
   ],
   "source": [
    "print(str(table_html)[:1000])"
   ]
  },
  {
   "cell_type": "code",
   "execution_count": 29,
   "id": "274545fa-3ae1-46ed-bc1c-4aed57b0f365",
   "metadata": {},
   "outputs": [],
   "source": [
    "def html_to_table(html):\n",
    "    \"Returns the table defined in html as a list\"\n",
    "    #defining the table:\n",
    "    table=[]\n",
    "    #iterating over all rows\n",
    "    for row in html.find_all('tr'):\n",
    "        r=[]\n",
    "        #finding all cells in each row:\n",
    "        cells=row.find_all('td')\n",
    "        \n",
    "        #if no cells are found, look for headings\n",
    "        if len(cells)==0:\n",
    "            cells=row.find_all('th')\n",
    "            \n",
    "        #iterate over cells:\n",
    "        for cell in cells:\n",
    "            cell=format(cell)\n",
    "            r.append(cell)\n",
    "        \n",
    "        #append the row to t:\n",
    "        table.append(r)\n",
    "    return table\n",
    "\n",
    "def format(cell):\n",
    "    \"Returns a string after converting bs4 object cell to clean text\"\n",
    "    if cell.content is None:\n",
    "        s=cell.text\n",
    "    elif len(cell.content)==0:\n",
    "        return ''\n",
    "    else:\n",
    "        s=' '.join([str(c) for c in cell.content])\n",
    "        \n",
    "    #here you can add additional characters/strings you want to \n",
    "    #remove, change punctuations or format the string in other\n",
    "    #ways:\n",
    "    s=s.replace('\\xa0','')\n",
    "    s=s.replace('\\n','')\n",
    "    s=s.strip()\n",
    "    s=s.replace('km','')\n",
    "    s=s.replace(',','.')\n",
    "    \n",
    "\n",
    "\n",
    "    \n",
    "    return s\n",
    "\n",
    "table=html_to_table(table_html)"
   ]
  },
  {
   "cell_type": "code",
   "execution_count": 30,
   "id": "571012f6-5fd8-403f-8681-a4bfc8f8264d",
   "metadata": {},
   "outputs": [
    {
     "name": "stdout",
     "output_type": "stream",
     "text": [
      "[['Bilmodell', 'Test', 'Rekkevidde i testen', 'Oppgitt WLTP', 'Avvik i prosent', 'Forbruk (målt) kWt/ 100', 'Forbruk (oppgitt) kWt/ 100', 'Utstyrsnivå'], ['Audi e-tron 55', 'Sommer 2020', '399 ', '370 ', '7.83', '20.3', '24.3', 'Advanced Business'], ['Audi e-tron 55 Sportback', 'Sommer 2020', '436 ', '376 ', '15.95', '19.8', '23.9', 'S-Line'], ['Audi e-tron Quattro 50', 'Vinter 2020', '259 ', '332 ', '−13.38', 'N/A', '23.9', 'Advanced Sport'], ['Audi e-tron Quattro 55', 'Vinter 2020', '341 ', '415 ', '−11.42', '24.4', '24.3', 'Advanced Business'], ['Audi e-Tron GT quattro', 'Sommer 2021', '528.1 ', '468 ', '12.84', '16.1', '20.1', 'GT quattro Pro'], ['BMW i3', 'Sommer 2020', '319 ', '310 ', '2.90', '12.5', '15.5', '120 Ah Fully Charged'], ['BMW i3', 'Vinter 2020', '245 ', '310 ', '−20.71', '15.6', '13.1', '120 Ah Fully Charged'], ['BMW iX3', 'Vinter 2021', '432 ', '450 ', '−4.00', '17.0', '19.0', 'Fully Charged Edition'], ['BMW iX3', 'Sommer 2021', '556.2 ', '450 ', '23.60', '13.3', '1\n"
     ]
    }
   ],
   "source": [
    "print(str(table)[:1000])"
   ]
  },
  {
   "cell_type": "code",
   "execution_count": 31,
   "id": "6b433fe4-097e-4569-a8da-6b697852dab9",
   "metadata": {},
   "outputs": [
    {
     "data": {
      "text/plain": [
       "'Bilmodell;Test;Rekkevidde i testen;Oppgitt WLTP;Avvik i prosent;Forbruk (målt) kWt/ 100;Forbruk (oppgitt) kWt/ 100;Utstyrsnivå'"
      ]
     },
     "execution_count": 31,
     "metadata": {},
     "output_type": "execute_result"
    }
   ],
   "source": [
    "';'.join(table[0])"
   ]
  },
  {
   "cell_type": "code",
   "execution_count": 32,
   "id": "85300db8-6703-4bb9-8d9c-ef91b43584b2",
   "metadata": {},
   "outputs": [],
   "source": [
    "def save_data(file_name,table):\n",
    "    \"Saves table to file_name\"\n",
    "    f=open(file_name,'w',encoding=\"utf-8\")\n",
    "    for row in table:\n",
    "        f.write(';'.join(row)+'\\n')\n",
    "    f.close()\n",
    "    \n",
    "save_data('wltp.csv',table)"
   ]
  },
  {
   "cell_type": "code",
   "execution_count": 33,
   "id": "60aa35a4-7315-4d8d-9957-d5f5d55e1542",
   "metadata": {},
   "outputs": [
    {
     "data": {
      "text/html": [
       "<div>\n",
       "<style scoped>\n",
       "    .dataframe tbody tr th:only-of-type {\n",
       "        vertical-align: middle;\n",
       "    }\n",
       "\n",
       "    .dataframe tbody tr th {\n",
       "        vertical-align: top;\n",
       "    }\n",
       "\n",
       "    .dataframe thead th {\n",
       "        text-align: right;\n",
       "    }\n",
       "</style>\n",
       "<table border=\"1\" class=\"dataframe\">\n",
       "  <thead>\n",
       "    <tr style=\"text-align: right;\">\n",
       "      <th></th>\n",
       "      <th>Bilmodell</th>\n",
       "      <th>Test</th>\n",
       "      <th>Rekkevidde i testen</th>\n",
       "      <th>Oppgitt WLTP</th>\n",
       "      <th>Avvik i prosent</th>\n",
       "      <th>Forbruk (mÃ¥lt) kWt/ 100</th>\n",
       "      <th>Forbruk (oppgitt) kWt/ 100</th>\n",
       "      <th>UtstyrsnivÃ¥</th>\n",
       "    </tr>\n",
       "  </thead>\n",
       "  <tbody>\n",
       "    <tr>\n",
       "      <th>0</th>\n",
       "      <td>Audi e-tron 55</td>\n",
       "      <td>Sommer 2020</td>\n",
       "      <td>399.0</td>\n",
       "      <td>370</td>\n",
       "      <td>7.83</td>\n",
       "      <td>20.3</td>\n",
       "      <td>24.3</td>\n",
       "      <td>Advanced Business</td>\n",
       "    </tr>\n",
       "    <tr>\n",
       "      <th>1</th>\n",
       "      <td>Audi e-tron 55 Sportback</td>\n",
       "      <td>Sommer 2020</td>\n",
       "      <td>436.0</td>\n",
       "      <td>376</td>\n",
       "      <td>15.95</td>\n",
       "      <td>19.8</td>\n",
       "      <td>23.9</td>\n",
       "      <td>S-Line</td>\n",
       "    </tr>\n",
       "    <tr>\n",
       "      <th>2</th>\n",
       "      <td>Audi e-tron Quattro 50</td>\n",
       "      <td>Vinter 2020</td>\n",
       "      <td>259.0</td>\n",
       "      <td>332</td>\n",
       "      <td>â13.38</td>\n",
       "      <td>NaN</td>\n",
       "      <td>23.9</td>\n",
       "      <td>Advanced Sport</td>\n",
       "    </tr>\n",
       "    <tr>\n",
       "      <th>3</th>\n",
       "      <td>Audi e-tron Quattro 55</td>\n",
       "      <td>Vinter 2020</td>\n",
       "      <td>341.0</td>\n",
       "      <td>415</td>\n",
       "      <td>â11.42</td>\n",
       "      <td>24.4</td>\n",
       "      <td>24.3</td>\n",
       "      <td>Advanced Business</td>\n",
       "    </tr>\n",
       "    <tr>\n",
       "      <th>4</th>\n",
       "      <td>Audi e-Tron GT quattro</td>\n",
       "      <td>Sommer 2021</td>\n",
       "      <td>528.1</td>\n",
       "      <td>468</td>\n",
       "      <td>12.84</td>\n",
       "      <td>16.1</td>\n",
       "      <td>20.1</td>\n",
       "      <td>GT quattro Pro</td>\n",
       "    </tr>\n",
       "    <tr>\n",
       "      <th>...</th>\n",
       "      <td>...</td>\n",
       "      <td>...</td>\n",
       "      <td>...</td>\n",
       "      <td>...</td>\n",
       "      <td>...</td>\n",
       "      <td>...</td>\n",
       "      <td>...</td>\n",
       "      <td>...</td>\n",
       "    </tr>\n",
       "    <tr>\n",
       "      <th>83</th>\n",
       "      <td>Volvo XC40 Recharge P8</td>\n",
       "      <td>Sommer 2021</td>\n",
       "      <td>445.4</td>\n",
       "      <td>415</td>\n",
       "      <td>7.33</td>\n",
       "      <td>17.5</td>\n",
       "      <td>24.0</td>\n",
       "      <td>Recharge P8 AWD</td>\n",
       "    </tr>\n",
       "    <tr>\n",
       "      <th>84</th>\n",
       "      <td>Volvo XC40 Recharge P8</td>\n",
       "      <td>Vinter 2021</td>\n",
       "      <td>332.0</td>\n",
       "      <td>409</td>\n",
       "      <td>â18.82</td>\n",
       "      <td>21.8</td>\n",
       "      <td>23.9</td>\n",
       "      <td>Recharge Pure Electric P8</td>\n",
       "    </tr>\n",
       "    <tr>\n",
       "      <th>85</th>\n",
       "      <td>Xpeng G3</td>\n",
       "      <td>Sommer 2020</td>\n",
       "      <td>506.0</td>\n",
       "      <td>450</td>\n",
       "      <td>12.44</td>\n",
       "      <td>13.1</td>\n",
       "      <td>14.7</td>\n",
       "      <td>Smart</td>\n",
       "    </tr>\n",
       "    <tr>\n",
       "      <th>86</th>\n",
       "      <td>Xpeng G3</td>\n",
       "      <td>Sommer 2021</td>\n",
       "      <td>438.9</td>\n",
       "      <td>451</td>\n",
       "      <td>â2.68</td>\n",
       "      <td>-</td>\n",
       "      <td>14.7</td>\n",
       "      <td>Premium</td>\n",
       "    </tr>\n",
       "    <tr>\n",
       "      <th>87</th>\n",
       "      <td>Xpeng G3</td>\n",
       "      <td>Vinter 2021</td>\n",
       "      <td>341.0</td>\n",
       "      <td>451</td>\n",
       "      <td>â24.39</td>\n",
       "      <td>16.7</td>\n",
       "      <td>14.7</td>\n",
       "      <td>Smart</td>\n",
       "    </tr>\n",
       "  </tbody>\n",
       "</table>\n",
       "<p>88 rows × 8 columns</p>\n",
       "</div>"
      ],
      "text/plain": [
       "                   Bilmodell         Test  Rekkevidde i testen  Oppgitt WLTP  \\\n",
       "0             Audi e-tron 55  Sommer 2020                399.0           370   \n",
       "1   Audi e-tron 55 Sportback  Sommer 2020                436.0           376   \n",
       "2     Audi e-tron Quattro 50  Vinter 2020                259.0           332   \n",
       "3     Audi e-tron Quattro 55  Vinter 2020                341.0           415   \n",
       "4     Audi e-Tron GT quattro  Sommer 2021                528.1           468   \n",
       "..                       ...          ...                  ...           ...   \n",
       "83    Volvo XC40 Recharge P8  Sommer 2021                445.4           415   \n",
       "84    Volvo XC40 Recharge P8  Vinter 2021                332.0           409   \n",
       "85                  Xpeng G3  Sommer 2020                506.0           450   \n",
       "86                  Xpeng G3  Sommer 2021                438.9           451   \n",
       "87                  Xpeng G3  Vinter 2021                341.0           451   \n",
       "\n",
       "   Avvik i prosent Forbruk (mÃ¥lt) kWt/ 100  Forbruk (oppgitt) kWt/ 100  \\\n",
       "0             7.83                     20.3                        24.3   \n",
       "1            15.95                     19.8                        23.9   \n",
       "2         â13.38                      NaN                        23.9   \n",
       "3         â11.42                     24.4                        24.3   \n",
       "4            12.84                     16.1                        20.1   \n",
       "..             ...                      ...                         ...   \n",
       "83            7.33                     17.5                        24.0   \n",
       "84        â18.82                     21.8                        23.9   \n",
       "85           12.44                     13.1                        14.7   \n",
       "86         â2.68                        -                        14.7   \n",
       "87        â24.39                     16.7                        14.7   \n",
       "\n",
       "                 UtstyrsnivÃ¥  \n",
       "0           Advanced Business  \n",
       "1                      S-Line  \n",
       "2              Advanced Sport  \n",
       "3           Advanced Business  \n",
       "4              GT quattro Pro  \n",
       "..                        ...  \n",
       "83            Recharge P8 AWD  \n",
       "84  Recharge Pure Electric P8  \n",
       "85                      Smart  \n",
       "86                    Premium  \n",
       "87                      Smart  \n",
       "\n",
       "[88 rows x 8 columns]"
      ]
     },
     "execution_count": 33,
     "metadata": {},
     "output_type": "execute_result"
    }
   ],
   "source": [
    "import pandas as pd\n",
    "g_df = pd.read_csv(\"wltp.csv\", delimiter=';', encoding='latin1')#reading data\n",
    "g_df"
   ]
  },
  {
   "cell_type": "code",
   "execution_count": 34,
   "id": "564bd043",
   "metadata": {},
   "outputs": [
    {
     "name": "stdout",
     "output_type": "stream",
     "text": [
      "                  Bilmodell         Test  Rekkevidde i testen  Oppgitt WLTP  \\\n",
      "0            Audi e-tron 55  Sommer 2020                399.0           370   \n",
      "1  Audi e-tron 55 Sportback  Sommer 2020                436.0           376   \n",
      "2    Audi e-tron Quattro 50  Vinter 2020                259.0           332   \n",
      "3    Audi e-tron Quattro 55  Vinter 2020                341.0           415   \n",
      "4    Audi e-Tron GT quattro  Sommer 2021                528.1           468   \n",
      "\n",
      "  Avvik i prosent Forbruk (mÃ¥lt) kWt/ 100  Forbruk (oppgitt) kWt/ 100  \\\n",
      "0            7.83                     20.3                        24.3   \n",
      "1           15.95                     19.8                        23.9   \n",
      "2        â13.38                      NaN                        23.9   \n",
      "3        â11.42                     24.4                        24.3   \n",
      "4           12.84                     16.1                        20.1   \n",
      "\n",
      "        UtstyrsnivÃ¥  log_Rekkevidde_i_testen  log_Oppgitt_WLTP  \n",
      "0  Advanced Business                    399.0               370  \n",
      "1             S-Line                    436.0               376  \n",
      "2     Advanced Sport                    259.0               332  \n",
      "3  Advanced Business                    341.0               415  \n",
      "4     GT quattro Pro                    528.1               468  \n"
     ]
    }
   ],
   "source": [
    "#make new column with log of Rekkevidde i testen og log of Rekkevidde i Oppgitt WLTP\n",
    "g_df['log_Rekkevidde_i_testen']=g_df['Rekkevidde i testen']\n",
    "g_df['log_Oppgitt_WLTP']=g_df['Oppgitt WLTP']\n",
    "print(g_df.head())"
   ]
  },
  {
   "cell_type": "code",
   "execution_count": 35,
   "id": "3df3a0e9-201d-4eb2-a09d-a86fda8c6ca6",
   "metadata": {},
   "outputs": [
    {
     "data": {
      "text/plain": [
       "<matplotlib.legend.Legend at 0x1f3805ba910>"
      ]
     },
     "execution_count": 35,
     "metadata": {},
     "output_type": "execute_result"
    },
    {
     "data": {
      "image/png": "[encoded data removed]",
      "text/plain": [
       "<Figure size 432x288 with 1 Axes>"
      ]
     },
     "metadata": {
      "needs_background": "light"
     },
     "output_type": "display_data"
    }
   ],
   "source": [
    "from matplotlib import pyplot as plt\n",
    "import numpy as np\n",
    "\n",
    "fig,ax=plt.subplots()\n",
    "\n",
    "#adding axis lables:\n",
    "ax.set_ylabel('range')\n",
    "ax.set_xlabel('WLTP')\n",
    "\n",
    "#plotting the function:\n",
    "ax.scatter(g_df[\"Rekkevidde i testen\"], g_df['Oppgitt WLTP'],  label='Observasjoner')\n",
    "ax.legend(loc='lower right',frameon=False)\n",
    "\n",
    "\n"
   ]
  },
  {
   "cell_type": "code",
   "execution_count": 38,
   "id": "a6dab5ee-75ab-4dc8-b56a-e5b5bcb3adcc",
   "metadata": {},
   "outputs": [
    {
     "data": {
      "text/html": [
       "<div>\n",
       "<style scoped>\n",
       "    .dataframe tbody tr th:only-of-type {\n",
       "        vertical-align: middle;\n",
       "    }\n",
       "\n",
       "    .dataframe tbody tr th {\n",
       "        vertical-align: top;\n",
       "    }\n",
       "\n",
       "    .dataframe thead th {\n",
       "        text-align: right;\n",
       "    }\n",
       "</style>\n",
       "<table border=\"1\" class=\"dataframe\">\n",
       "  <thead>\n",
       "    <tr style=\"text-align: right;\">\n",
       "      <th></th>\n",
       "      <th>log_Oppgitt_WLTP</th>\n",
       "    </tr>\n",
       "  </thead>\n",
       "  <tbody>\n",
       "    <tr>\n",
       "      <th>0</th>\n",
       "      <td>370</td>\n",
       "    </tr>\n",
       "    <tr>\n",
       "      <th>1</th>\n",
       "      <td>376</td>\n",
       "    </tr>\n",
       "    <tr>\n",
       "      <th>2</th>\n",
       "      <td>332</td>\n",
       "    </tr>\n",
       "    <tr>\n",
       "      <th>3</th>\n",
       "      <td>415</td>\n",
       "    </tr>\n",
       "    <tr>\n",
       "      <th>4</th>\n",
       "      <td>468</td>\n",
       "    </tr>\n",
       "    <tr>\n",
       "      <th>...</th>\n",
       "      <td>...</td>\n",
       "    </tr>\n",
       "    <tr>\n",
       "      <th>83</th>\n",
       "      <td>415</td>\n",
       "    </tr>\n",
       "    <tr>\n",
       "      <th>84</th>\n",
       "      <td>409</td>\n",
       "    </tr>\n",
       "    <tr>\n",
       "      <th>85</th>\n",
       "      <td>450</td>\n",
       "    </tr>\n",
       "    <tr>\n",
       "      <th>86</th>\n",
       "      <td>451</td>\n",
       "    </tr>\n",
       "    <tr>\n",
       "      <th>87</th>\n",
       "      <td>451</td>\n",
       "    </tr>\n",
       "  </tbody>\n",
       "</table>\n",
       "<p>88 rows × 1 columns</p>\n",
       "</div>"
      ],
      "text/plain": [
       "    log_Oppgitt_WLTP\n",
       "0                370\n",
       "1                376\n",
       "2                332\n",
       "3                415\n",
       "4                468\n",
       "..               ...\n",
       "83               415\n",
       "84               409\n",
       "85               450\n",
       "86               451\n",
       "87               451\n",
       "\n",
       "[88 rows x 1 columns]"
      ]
     },
     "execution_count": 38,
     "metadata": {},
     "output_type": "execute_result"
    }
   ],
   "source": [
    "g_df['Oppgit WLTP'] = g_df['Oppgitt WLTP'].astype(float)\n",
    "\n",
    "\n",
    "y=pd.DataFrame((g_df['log_Oppgitt_WLTP']))\n",
    "\n",
    "pd.DataFrame(y)"
   ]
  },
  {
   "cell_type": "code",
   "execution_count": 39,
   "id": "f0cd2373-6d4f-4da8-8b3f-12262d2ac5f2",
   "metadata": {},
   "outputs": [
    {
     "data": {
      "text/html": [
       "<div>\n",
       "<style scoped>\n",
       "    .dataframe tbody tr th:only-of-type {\n",
       "        vertical-align: middle;\n",
       "    }\n",
       "\n",
       "    .dataframe tbody tr th {\n",
       "        vertical-align: top;\n",
       "    }\n",
       "\n",
       "    .dataframe thead th {\n",
       "        text-align: right;\n",
       "    }\n",
       "</style>\n",
       "<table border=\"1\" class=\"dataframe\">\n",
       "  <thead>\n",
       "    <tr style=\"text-align: right;\">\n",
       "      <th></th>\n",
       "      <th>log_Rekkevidde_i_testen</th>\n",
       "      <th>intercept</th>\n",
       "    </tr>\n",
       "  </thead>\n",
       "  <tbody>\n",
       "    <tr>\n",
       "      <th>0</th>\n",
       "      <td>399.0</td>\n",
       "      <td>1</td>\n",
       "    </tr>\n",
       "    <tr>\n",
       "      <th>1</th>\n",
       "      <td>436.0</td>\n",
       "      <td>1</td>\n",
       "    </tr>\n",
       "    <tr>\n",
       "      <th>2</th>\n",
       "      <td>259.0</td>\n",
       "      <td>1</td>\n",
       "    </tr>\n",
       "    <tr>\n",
       "      <th>3</th>\n",
       "      <td>341.0</td>\n",
       "      <td>1</td>\n",
       "    </tr>\n",
       "    <tr>\n",
       "      <th>4</th>\n",
       "      <td>528.1</td>\n",
       "      <td>1</td>\n",
       "    </tr>\n",
       "    <tr>\n",
       "      <th>...</th>\n",
       "      <td>...</td>\n",
       "      <td>...</td>\n",
       "    </tr>\n",
       "    <tr>\n",
       "      <th>83</th>\n",
       "      <td>445.4</td>\n",
       "      <td>1</td>\n",
       "    </tr>\n",
       "    <tr>\n",
       "      <th>84</th>\n",
       "      <td>332.0</td>\n",
       "      <td>1</td>\n",
       "    </tr>\n",
       "    <tr>\n",
       "      <th>85</th>\n",
       "      <td>506.0</td>\n",
       "      <td>1</td>\n",
       "    </tr>\n",
       "    <tr>\n",
       "      <th>86</th>\n",
       "      <td>438.9</td>\n",
       "      <td>1</td>\n",
       "    </tr>\n",
       "    <tr>\n",
       "      <th>87</th>\n",
       "      <td>341.0</td>\n",
       "      <td>1</td>\n",
       "    </tr>\n",
       "  </tbody>\n",
       "</table>\n",
       "<p>88 rows × 2 columns</p>\n",
       "</div>"
      ],
      "text/plain": [
       "    log_Rekkevidde_i_testen  intercept\n",
       "0                     399.0          1\n",
       "1                     436.0          1\n",
       "2                     259.0          1\n",
       "3                     341.0          1\n",
       "4                     528.1          1\n",
       "..                      ...        ...\n",
       "83                    445.4          1\n",
       "84                    332.0          1\n",
       "85                    506.0          1\n",
       "86                    438.9          1\n",
       "87                    341.0          1\n",
       "\n",
       "[88 rows x 2 columns]"
      ]
     },
     "execution_count": 39,
     "metadata": {},
     "output_type": "execute_result"
    }
   ],
   "source": [
    "g_df['Rekkevidde i testen'] = g_df['Rekkevidde i testen'].astype(float)\n",
    "\n",
    "x=pd.DataFrame((g_df['log_Rekkevidde_i_testen']))\n",
    "x['intercept']=1\n",
    "x"
   ]
  },
  {
   "cell_type": "code",
   "execution_count": 40,
   "id": "f8a4fd94-f86e-4af7-b3bd-56a7b6fd8aa5",
   "metadata": {},
   "outputs": [
    {
     "name": "stdout",
     "output_type": "stream",
     "text": [
      "                            OLS Regression Results                            \n",
      "==============================================================================\n",
      "Dep. Variable:       log_Oppgitt_WLTP   R-squared:                       0.735\n",
      "Model:                            OLS   Adj. R-squared:                  0.732\n",
      "Method:                 Least Squares   F-statistic:                     238.2\n",
      "Date:                Thu, 23 Jun 2022   Prob (F-statistic):           1.64e-26\n",
      "Time:                        17:53:20   Log-Likelihood:                -480.91\n",
      "No. Observations:                  88   AIC:                             965.8\n",
      "Df Residuals:                      86   BIC:                             970.8\n",
      "Df Model:                           1                                         \n",
      "Covariance Type:            nonrobust                                         \n",
      "===========================================================================================\n",
      "                              coef    std err          t      P>|t|      [0.025      0.975]\n",
      "-------------------------------------------------------------------------------------------\n",
      "log_Rekkevidde_i_testen     0.7849      0.051     15.435      0.000       0.684       0.886\n",
      "intercept                  95.8179     20.175      4.749      0.000      55.712     135.924\n",
      "==============================================================================\n",
      "Omnibus:                        5.317   Durbin-Watson:                   2.114\n",
      "Prob(Omnibus):                  0.070   Jarque-Bera (JB):                5.406\n",
      "Skew:                           0.587   Prob(JB):                       0.0670\n",
      "Kurtosis:                       2.693   Cond. No.                     1.30e+03\n",
      "==============================================================================\n",
      "\n",
      "Notes:\n",
      "[1] Standard Errors assume that the covariance matrix of the errors is correctly specified.\n",
      "[2] The condition number is large, 1.3e+03. This might indicate that there are\n",
      "strong multicollinearity or other numerical problems.\n"
     ]
    }
   ],
   "source": [
    "from statsmodels.regression.linear_model import OLS\n",
    "\n",
    "res=OLS(y,x).fit()\n",
    "\n",
    "print(res.summary())"
   ]
  },
  {
   "cell_type": "code",
   "execution_count": 41,
   "id": "758c0f01-67b8-4c3a-8530-ffa82c362e87",
   "metadata": {},
   "outputs": [
    {
     "data": {
      "text/plain": [
       "log_Rekkevidde_i_testen     0.784947\n",
       "intercept                  95.817899\n",
       "dtype: float64"
      ]
     },
     "execution_count": 41,
     "metadata": {},
     "output_type": "execute_result"
    }
   ],
   "source": [
    "res.params"
   ]
  },
  {
   "cell_type": "code",
   "execution_count": 43,
   "id": "bbbba7af-9412-40fd-9daf-040e832d6089",
   "metadata": {},
   "outputs": [
    {
     "data": {
      "image/png": "[encoded data removed]",
      "text/plain": [
       "<Figure size 432x288 with 1 Axes>"
      ]
     },
     "execution_count": 43,
     "metadata": {},
     "output_type": "execute_result"
    }
   ],
   "source": [
    "\n",
    "\n",
    "\n",
    "\n",
    "x=np.linspace(min((g_df['log_Rekkevidde_i_testen'])), max((g_df['log_Rekkevidde_i_testen'])), 500)\n",
    "\n",
    "regression_line=res.params['intercept']+res.params['log_Rekkevidde_i_testen']*x\n",
    "\n",
    "\n",
    "ax.plot(x, regression_line,color='red')\n",
    "fig\n",
    "\n",
    "\n"
   ]
  },
  {
   "cell_type": "code",
   "execution_count": 46,
   "id": "0c0a662d",
   "metadata": {},
   "outputs": [
    {
     "data": {
      "image/png": "[encoded data removed]",
      "text/plain": [
       "<Figure size 432x288 with 1 Axes>"
      ]
     },
     "metadata": {
      "needs_background": "light"
     },
     "output_type": "display_data"
    }
   ],
   "source": [
    "#autoviz\n",
    "import seaborn as sns\n",
    "sns.regplot(x=g_df['log_Rekkevidde_i_testen'], y=g_df['Oppgitt WLTP'], data=g_df)\n",
    "plt.show()"
   ]
  },
  {
   "cell_type": "code",
   "execution_count": 1,
   "id": "a32679c3-be2f-40cc-816e-ced647531585",
   "metadata": {},
   "outputs": [],
   "source": [
    "#autoviz\n",
    "#import seaborn as sns\n",
    "#sns.regplot(x=g_df['log_Rekkevidde_i_testen'], y=g_df['Oppgitt WLTP'], data=g_df)\n",
    "#plt.show()\n",
    "#from autoviz.AutoViz_Class import AutoViz_Class\n",
    "#%matplotlib inline\n",
    "#\n",
    "#AV = AutoViz_Class()\n",
    "#\n",
    "#viz = AV.AutoViz(\"wltp.csv\", sep=\";\", depVar= \"Rekkevidde i testen\")\n",
    "\n",
    "    "
   ]
  },
  {
   "cell_type": "code",
   "execution_count": null,
   "id": "ba66dd9f",
   "metadata": {},
   "outputs": [],
   "source": []
  }
 ],
 "metadata": {
  "kernelspec": {
   "display_name": "Python 3.10.6 64-bit",
   "language": "python",
   "name": "python3"
  },
  "language_info": {
   "codemirror_mode": {
    "name": "ipython",
    "version": 3
   },
   "file_extension": ".py",
   "mimetype": "text/x-python",
   "name": "python",
   "nbconvert_exporter": "python",
   "pygments_lexer": "ipython3",
   "version": "3.10.6"
  },
  "vscode": {
   "interpreter": {
    "hash": "aee8b7b246df8f9039afb4144a1f6fd8d2ca17a180786b69acc140d282b71a49"
   }
  }
 },
 "nbformat": 4,
 "nbformat_minor": 5
}
