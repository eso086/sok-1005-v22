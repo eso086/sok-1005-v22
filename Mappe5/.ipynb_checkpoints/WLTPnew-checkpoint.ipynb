{
 "cells": [
  {
   "cell_type": "code",
   "execution_count": 39,
   "id": "8ecbd7ba-ec01-4f9d-9136-efe5a55909bd",
   "metadata": {},
   "outputs": [],
   "source": [
    "url = \"https://www.motor.no/bil/sjekk-motors-rekkevidde-resultater-bilmodell-for-bilmodell/202424\""
   ]
  },
  {
   "cell_type": "code",
   "execution_count": 40,
   "id": "51db34a0-e29b-4140-ad2a-724ad3e3354a",
   "metadata": {},
   "outputs": [],
   "source": [
    "from bs4 import BeautifulSoup\n",
    "import requests\n",
    "\n",
    "def fetch_html_tables(url):\n",
    "    \"Returns a list of tables in the html of url\"\n",
    "    page = requests.get(url)\n",
    "    bs=BeautifulSoup(page.content)\n",
    "    tables=bs.find_all('table')\n",
    "    return tables\n",
    "tables=fetch_html_tables('https://www.motor.no/bil/sjekk-motors-rekkevidde-resultater-bilmodell-for-bilmodell/202424')\n",
    "table_html=tables[0]"
   ]
  },
  {
   "cell_type": "code",
   "execution_count": 41,
   "id": "59b77c3e-de92-44e1-8e7c-2ed903c5de42",
   "metadata": {},
   "outputs": [
    {
     "name": "stdout",
     "output_type": "stream",
     "text": [
      "<table class=\"\">\n",
      "<thead>\n",
      "<tr>\n",
      "<td>\n",
      "            \n",
      "            Bilmodell\n",
      "            </td>\n",
      "<td>\n",
      "            \n",
      "            Test\n",
      "            </td>\n",
      "<td>\n",
      "            \n",
      "            Rekkevidde i testen\n",
      "            </td>\n",
      "<td>\n",
      "            \n",
      "            Oppgitt WLTP\n",
      "            </td>\n",
      "<td>\n",
      "            \n",
      "            Avvik i prosent\n",
      "            </td>\n",
      "<td>\n",
      "            \n",
      "            Forbruk (målt) kWt/ 100km\n",
      "            </td>\n",
      "<td>\n",
      "            \n",
      "            Forbruk (oppgitt) kWt/ 100km\n",
      "            </td>\n",
      "<td>\n",
      "            \n",
      "            Utstyrsnivå\n",
      "            </td>\n",
      "</tr>\n",
      "</thead>\n",
      "<tbody>\n",
      "<tr><td>Audi e-tron 55</td><td>Sommer 2020</td><td>399 km</td><td>370 km</td><td>7,83</td><td>20,3</td><td>24,3</td><td>Advanced Business</td></tr>\n",
      "<tr><td>Audi e-tron 55 Sportback</td><td>Sommer 2020</td><td>436 km</td><td>376 km</td><td>15,95</td><td>19,8</td><td>23,9</td><td>S-Line</td></tr>\n",
      "<tr><td>Audi e-tron Quattro 50</td><td>Vinter 2020</td><td>259 km</td><td>332 km</td><td>−13,38</td><td>N/A</td><td>23,9</td><td>Advance\n"
     ]
    }
   ],
   "source": [
    "print(str(table_html)[:1000])"
   ]
  },
  {
   "cell_type": "code",
   "execution_count": 42,
   "id": "274545fa-3ae1-46ed-bc1c-4aed57b0f365",
   "metadata": {},
   "outputs": [],
   "source": [
    "def html_to_table(html):\n",
    "    \"Returns the table defined in html as a list\"\n",
    "    #defining the table:\n",
    "    table=[]\n",
    "    #iterating over all rows\n",
    "    for row in html.find_all('tr'):\n",
    "        r=[]\n",
    "        #finding all cells in each row:\n",
    "        cells=row.find_all('td')\n",
    "        \n",
    "        #if no cells are found, look for headings\n",
    "        if len(cells)==0:\n",
    "            cells=row.find_all('th')\n",
    "            \n",
    "        #iterate over cells:\n",
    "        for cell in cells:\n",
    "            cell=format(cell)\n",
    "            r.append(cell)\n",
    "        \n",
    "        #append the row to t:\n",
    "        table.append(r)\n",
    "    return table\n",
    "\n",
    "def format(cell):\n",
    "    \"Returns a string after converting bs4 object cell to clean text\"\n",
    "    if cell.content is None:\n",
    "        s=cell.text\n",
    "    elif len(cell.content)==0:\n",
    "        return ''\n",
    "    else:\n",
    "        s=' '.join([str(c) for c in cell.content])\n",
    "        \n",
    "    #here you can add additional characters/strings you want to \n",
    "    #remove, change punctuations or format the string in other\n",
    "    #ways:\n",
    "    s=s.replace('\\xa0','')\n",
    "    s=s.replace('\\n','')\n",
    "    s=s.strip()\n",
    "    return s\n",
    "\n",
    "table=html_to_table(table_html)"
   ]
  },
  {
   "cell_type": "code",
   "execution_count": 43,
   "id": "571012f6-5fd8-403f-8681-a4bfc8f8264d",
   "metadata": {},
   "outputs": [
    {
     "name": "stdout",
     "output_type": "stream",
     "text": [
      "[['Bilmodell', 'Test', 'Rekkevidde i testen', 'Oppgitt WLTP', 'Avvik i prosent', 'Forbruk (målt) kWt/ 100km', 'Forbruk (oppgitt) kWt/ 100km', 'Utstyrsnivå'], ['Audi e-tron 55', 'Sommer 2020', '399 km', '370 km', '7,83', '20,3', '24,3', 'Advanced Business'], ['Audi e-tron 55 Sportback', 'Sommer 2020', '436 km', '376 km', '15,95', '19,8', '23,9', 'S-Line'], ['Audi e-tron Quattro 50', 'Vinter 2020', '259 km', '332 km', '−13,38', 'N/A', '23,9', 'Advanced Sport'], ['Audi e-tron Quattro 55', 'Vinter 2020', '341 km', '415 km', '−11,42', '24,4', '24,3', 'Advanced Business'], ['Audi e-Tron GT quattro', 'Sommer 2021', '528,1 km', '468 km', '12,84', '16,1', '20,1', 'GT quattro Pro'], ['BMW i3', 'Sommer 2020', '319 km', '310 km', '2,90', '12,5', '15,5', '120 Ah Fully Charged'], ['BMW i3', 'Vinter 2020', '245 km', '310 km', '−20,71', '15,6', '13,1', '120 Ah Fully Charged'], ['BMW iX3', 'Vinter 2021', '432 km', '450 km', '−4,00', '17,0', '19,0', 'Fully Charged Edition'], ['BMW iX3', 'Sommer 2021', '\n"
     ]
    }
   ],
   "source": [
    "print(str(table)[:1000])"
   ]
  },
  {
   "cell_type": "code",
   "execution_count": 44,
   "id": "6b433fe4-097e-4569-a8da-6b697852dab9",
   "metadata": {},
   "outputs": [
    {
     "data": {
      "text/plain": [
       "'Bilmodell;Test;Rekkevidde i testen;Oppgitt WLTP;Avvik i prosent;Forbruk (målt) kWt/ 100km;Forbruk (oppgitt) kWt/ 100km;Utstyrsnivå'"
      ]
     },
     "execution_count": 44,
     "metadata": {},
     "output_type": "execute_result"
    }
   ],
   "source": [
    "';'.join(table[0])"
   ]
  },
  {
   "cell_type": "code",
   "execution_count": 45,
   "id": "85300db8-6703-4bb9-8d9c-ef91b43584b2",
   "metadata": {},
   "outputs": [],
   "source": [
    "def save_data(file_name,table):\n",
    "    \"Saves table to file_name\"\n",
    "    f=open(file_name,'w')\n",
    "    for row in table:\n",
    "        f.write(';'.join(row)+'\\n')\n",
    "    f.close()\n",
    "    \n",
    "save_data('wltp.csv',table)"
   ]
  },
  {
   "cell_type": "code",
   "execution_count": 46,
   "id": "60aa35a4-7315-4d8d-9957-d5f5d55e1542",
   "metadata": {},
   "outputs": [
    {
     "data": {
      "text/html": [
       "<div>\n",
       "<style scoped>\n",
       "    .dataframe tbody tr th:only-of-type {\n",
       "        vertical-align: middle;\n",
       "    }\n",
       "\n",
       "    .dataframe tbody tr th {\n",
       "        vertical-align: top;\n",
       "    }\n",
       "\n",
       "    .dataframe thead th {\n",
       "        text-align: right;\n",
       "    }\n",
       "</style>\n",
       "<table border=\"1\" class=\"dataframe\">\n",
       "  <thead>\n",
       "    <tr style=\"text-align: right;\">\n",
       "      <th></th>\n",
       "      <th>Bilmodell</th>\n",
       "      <th>Test</th>\n",
       "      <th>Rekkevidde i testen</th>\n",
       "      <th>Oppgitt WLTP</th>\n",
       "      <th>Avvik i prosent</th>\n",
       "      <th>Forbruk (mÃ¥lt) kWt/ 100km</th>\n",
       "      <th>Forbruk (oppgitt) kWt/ 100km</th>\n",
       "      <th>UtstyrsnivÃ¥</th>\n",
       "    </tr>\n",
       "  </thead>\n",
       "  <tbody>\n",
       "    <tr>\n",
       "      <th>0</th>\n",
       "      <td>Audi e-tron 55</td>\n",
       "      <td>Sommer 2020</td>\n",
       "      <td>399 km</td>\n",
       "      <td>370 km</td>\n",
       "      <td>7,83</td>\n",
       "      <td>20,3</td>\n",
       "      <td>24,3</td>\n",
       "      <td>Advanced Business</td>\n",
       "    </tr>\n",
       "    <tr>\n",
       "      <th>1</th>\n",
       "      <td>Audi e-tron 55 Sportback</td>\n",
       "      <td>Sommer 2020</td>\n",
       "      <td>436 km</td>\n",
       "      <td>376 km</td>\n",
       "      <td>15,95</td>\n",
       "      <td>19,8</td>\n",
       "      <td>23,9</td>\n",
       "      <td>S-Line</td>\n",
       "    </tr>\n",
       "    <tr>\n",
       "      <th>2</th>\n",
       "      <td>Audi e-tron Quattro 50</td>\n",
       "      <td>Vinter 2020</td>\n",
       "      <td>259 km</td>\n",
       "      <td>332 km</td>\n",
       "      <td>â13,38</td>\n",
       "      <td>NaN</td>\n",
       "      <td>23,9</td>\n",
       "      <td>Advanced Sport</td>\n",
       "    </tr>\n",
       "    <tr>\n",
       "      <th>3</th>\n",
       "      <td>Audi e-tron Quattro 55</td>\n",
       "      <td>Vinter 2020</td>\n",
       "      <td>341 km</td>\n",
       "      <td>415 km</td>\n",
       "      <td>â11,42</td>\n",
       "      <td>24,4</td>\n",
       "      <td>24,3</td>\n",
       "      <td>Advanced Business</td>\n",
       "    </tr>\n",
       "    <tr>\n",
       "      <th>4</th>\n",
       "      <td>Audi e-Tron GT quattro</td>\n",
       "      <td>Sommer 2021</td>\n",
       "      <td>528,1 km</td>\n",
       "      <td>468 km</td>\n",
       "      <td>12,84</td>\n",
       "      <td>16,1</td>\n",
       "      <td>20,1</td>\n",
       "      <td>GT quattro Pro</td>\n",
       "    </tr>\n",
       "    <tr>\n",
       "      <th>...</th>\n",
       "      <td>...</td>\n",
       "      <td>...</td>\n",
       "      <td>...</td>\n",
       "      <td>...</td>\n",
       "      <td>...</td>\n",
       "      <td>...</td>\n",
       "      <td>...</td>\n",
       "      <td>...</td>\n",
       "    </tr>\n",
       "    <tr>\n",
       "      <th>83</th>\n",
       "      <td>Volvo XC40 Recharge P8</td>\n",
       "      <td>Sommer 2021</td>\n",
       "      <td>445,4 km</td>\n",
       "      <td>415 km</td>\n",
       "      <td>7,33</td>\n",
       "      <td>17,5</td>\n",
       "      <td>24,0</td>\n",
       "      <td>Recharge P8 AWD</td>\n",
       "    </tr>\n",
       "    <tr>\n",
       "      <th>84</th>\n",
       "      <td>Volvo XC40 Recharge P8</td>\n",
       "      <td>Vinter 2021</td>\n",
       "      <td>332 km</td>\n",
       "      <td>409 km</td>\n",
       "      <td>â18,82</td>\n",
       "      <td>21,8</td>\n",
       "      <td>23,9</td>\n",
       "      <td>Recharge Pure Electric P8</td>\n",
       "    </tr>\n",
       "    <tr>\n",
       "      <th>85</th>\n",
       "      <td>Xpeng G3</td>\n",
       "      <td>Sommer 2020</td>\n",
       "      <td>506 km</td>\n",
       "      <td>450 km</td>\n",
       "      <td>12,44</td>\n",
       "      <td>13,1</td>\n",
       "      <td>14,7</td>\n",
       "      <td>Smart</td>\n",
       "    </tr>\n",
       "    <tr>\n",
       "      <th>86</th>\n",
       "      <td>Xpeng G3</td>\n",
       "      <td>Sommer 2021</td>\n",
       "      <td>438,9 km</td>\n",
       "      <td>451 km</td>\n",
       "      <td>â2,68</td>\n",
       "      <td>-</td>\n",
       "      <td>14,7</td>\n",
       "      <td>Premium</td>\n",
       "    </tr>\n",
       "    <tr>\n",
       "      <th>87</th>\n",
       "      <td>Xpeng G3</td>\n",
       "      <td>Vinter 2021</td>\n",
       "      <td>341 km</td>\n",
       "      <td>451 km</td>\n",
       "      <td>â24,39</td>\n",
       "      <td>16,7</td>\n",
       "      <td>14,7</td>\n",
       "      <td>Smart</td>\n",
       "    </tr>\n",
       "  </tbody>\n",
       "</table>\n",
       "<p>88 rows × 8 columns</p>\n",
       "</div>"
      ],
      "text/plain": [
       "                   Bilmodell         Test Rekkevidde i testen Oppgitt WLTP  \\\n",
       "0             Audi e-tron 55  Sommer 2020              399 km       370 km   \n",
       "1   Audi e-tron 55 Sportback  Sommer 2020              436 km       376 km   \n",
       "2     Audi e-tron Quattro 50  Vinter 2020              259 km       332 km   \n",
       "3     Audi e-tron Quattro 55  Vinter 2020              341 km       415 km   \n",
       "4     Audi e-Tron GT quattro  Sommer 2021            528,1 km       468 km   \n",
       "..                       ...          ...                 ...          ...   \n",
       "83    Volvo XC40 Recharge P8  Sommer 2021            445,4 km       415 km   \n",
       "84    Volvo XC40 Recharge P8  Vinter 2021              332 km       409 km   \n",
       "85                  Xpeng G3  Sommer 2020              506 km       450 km   \n",
       "86                  Xpeng G3  Sommer 2021            438,9 km       451 km   \n",
       "87                  Xpeng G3  Vinter 2021              341 km       451 km   \n",
       "\n",
       "   Avvik i prosent Forbruk (mÃ¥lt) kWt/ 100km Forbruk (oppgitt) kWt/ 100km  \\\n",
       "0             7,83                       20,3                         24,3   \n",
       "1            15,95                       19,8                         23,9   \n",
       "2         â13,38                        NaN                         23,9   \n",
       "3         â11,42                       24,4                         24,3   \n",
       "4            12,84                       16,1                         20,1   \n",
       "..             ...                        ...                          ...   \n",
       "83            7,33                       17,5                         24,0   \n",
       "84        â18,82                       21,8                         23,9   \n",
       "85           12,44                       13,1                         14,7   \n",
       "86         â2,68                          -                         14,7   \n",
       "87        â24,39                       16,7                         14,7   \n",
       "\n",
       "                 UtstyrsnivÃ¥  \n",
       "0           Advanced Business  \n",
       "1                      S-Line  \n",
       "2              Advanced Sport  \n",
       "3           Advanced Business  \n",
       "4              GT quattro Pro  \n",
       "..                        ...  \n",
       "83            Recharge P8 AWD  \n",
       "84  Recharge Pure Electric P8  \n",
       "85                      Smart  \n",
       "86                    Premium  \n",
       "87                      Smart  \n",
       "\n",
       "[88 rows x 8 columns]"
      ]
     },
     "execution_count": 46,
     "metadata": {},
     "output_type": "execute_result"
    }
   ],
   "source": [
    "import pandas as pd\n",
    "g_df = pd.read_csv(\"wltp.csv\", delimiter=';', encoding='latin1')#reading data\n",
    "g_df"
   ]
  },
  {
   "cell_type": "code",
   "execution_count": 47,
   "id": "8aee29eb-30ae-4fa2-93c7-78993e3f3952",
   "metadata": {},
   "outputs": [],
   "source": [
    "import pandas as pd\n",
    "from skimpy import clean_columns # kommer ikke videre fordi colnames ikke kan cleanes."
   ]
  },
  {
   "cell_type": "code",
   "execution_count": 48,
   "id": "3df3a0e9-201d-4eb2-a09d-a86fda8c6ca6",
   "metadata": {},
   "outputs": [
    {
     "data": {
      "text/plain": [
       "<matplotlib.legend.Legend at 0x7f7dfcf04f40>"
      ]
     },
     "execution_count": 48,
     "metadata": {},
     "output_type": "execute_result"
    },
    {
     "data": {
      "image/png": "[encoded data removed]",
      "text/plain": [
       "<Figure size 432x288 with 1 Axes>"
      ]
     },
     "metadata": {
      "needs_background": "light"
     },
     "output_type": "display_data"
    }
   ],
   "source": [
    "from matplotlib import pyplot as plt\n",
    "import numpy as np\n",
    "\n",
    "fig,ax=plt.subplots()\n",
    "\n",
    "#adding axis lables:\n",
    "ax.set_ylabel('range')\n",
    "ax.set_xlabel('WLTP')\n",
    "\n",
    "#plotting the function:\n",
    "ax.scatter(g_df[\"Rekkevidde i testen\"], g_df['Oppgitt WLTP'],  label='Observasjoner')\n",
    "ax.legend(loc='lower right',frameon=False)\n",
    "\n",
    "\n"
   ]
  },
  {
   "cell_type": "code",
   "execution_count": 50,
   "id": "a6dab5ee-75ab-4dc8-b56a-e5b5bcb3adcc",
   "metadata": {},
   "outputs": [
    {
     "data": {
      "text/html": [
       "<div>\n",
       "<style scoped>\n",
       "    .dataframe tbody tr th:only-of-type {\n",
       "        vertical-align: middle;\n",
       "    }\n",
       "\n",
       "    .dataframe tbody tr th {\n",
       "        vertical-align: top;\n",
       "    }\n",
       "\n",
       "    .dataframe thead th {\n",
       "        text-align: right;\n",
       "    }\n",
       "</style>\n",
       "<table border=\"1\" class=\"dataframe\">\n",
       "  <thead>\n",
       "    <tr style=\"text-align: right;\">\n",
       "      <th></th>\n",
       "      <th>Oppgitt WLTP</th>\n",
       "    </tr>\n",
       "  </thead>\n",
       "  <tbody>\n",
       "    <tr>\n",
       "      <th>0</th>\n",
       "      <td>370 km</td>\n",
       "    </tr>\n",
       "    <tr>\n",
       "      <th>1</th>\n",
       "      <td>376 km</td>\n",
       "    </tr>\n",
       "    <tr>\n",
       "      <th>2</th>\n",
       "      <td>332 km</td>\n",
       "    </tr>\n",
       "    <tr>\n",
       "      <th>3</th>\n",
       "      <td>415 km</td>\n",
       "    </tr>\n",
       "    <tr>\n",
       "      <th>4</th>\n",
       "      <td>468 km</td>\n",
       "    </tr>\n",
       "    <tr>\n",
       "      <th>...</th>\n",
       "      <td>...</td>\n",
       "    </tr>\n",
       "    <tr>\n",
       "      <th>83</th>\n",
       "      <td>415 km</td>\n",
       "    </tr>\n",
       "    <tr>\n",
       "      <th>84</th>\n",
       "      <td>409 km</td>\n",
       "    </tr>\n",
       "    <tr>\n",
       "      <th>85</th>\n",
       "      <td>450 km</td>\n",
       "    </tr>\n",
       "    <tr>\n",
       "      <th>86</th>\n",
       "      <td>451 km</td>\n",
       "    </tr>\n",
       "    <tr>\n",
       "      <th>87</th>\n",
       "      <td>451 km</td>\n",
       "    </tr>\n",
       "  </tbody>\n",
       "</table>\n",
       "<p>88 rows × 1 columns</p>\n",
       "</div>"
      ],
      "text/plain": [
       "   Oppgitt WLTP\n",
       "0        370 km\n",
       "1        376 km\n",
       "2        332 km\n",
       "3        415 km\n",
       "4        468 km\n",
       "..          ...\n",
       "83       415 km\n",
       "84       409 km\n",
       "85       450 km\n",
       "86       451 km\n",
       "87       451 km\n",
       "\n",
       "[88 rows x 1 columns]"
      ]
     },
     "execution_count": 50,
     "metadata": {},
     "output_type": "execute_result"
    },
    {
     "name": "stdout",
     "output_type": "stream",
     "text": [
      "ERROR! Session/line number was not unique in database. History logging moved to new session 353\n"
     ]
    }
   ],
   "source": [
    "y=g_df['Oppgitt WLTP']\n",
    "pd.DataFrame(y)"
   ]
  },
  {
   "cell_type": "code",
   "execution_count": null,
   "id": "f0cd2373-6d4f-4da8-8b3f-12262d2ac5f2",
   "metadata": {},
   "outputs": [],
   "source": [
    "x=pd.DataFrame(np.log(g_df['Rekkevidde i testen']))\n",
    "x['intercept']=1\n",
    "x"
   ]
  },
  {
   "cell_type": "code",
   "execution_count": 53,
   "id": "f8a4fd94-f86e-4af7-b3bd-56a7b6fd8aa5",
   "metadata": {},
   "outputs": [
    {
     "ename": "NameError",
     "evalue": "name 'x' is not defined",
     "output_type": "error",
     "traceback": [
      "\u001b[0;31m---------------------------------------------------------------------------\u001b[0m",
      "\u001b[0;31mNameError\u001b[0m                                 Traceback (most recent call last)",
      "Input \u001b[0;32mIn [53]\u001b[0m, in \u001b[0;36m<module>\u001b[0;34m\u001b[0m\n\u001b[1;32m      1\u001b[0m \u001b[38;5;28;01mfrom\u001b[39;00m \u001b[38;5;21;01mstatsmodels\u001b[39;00m\u001b[38;5;21;01m.\u001b[39;00m\u001b[38;5;21;01mregression\u001b[39;00m\u001b[38;5;21;01m.\u001b[39;00m\u001b[38;5;21;01mlinear_model\u001b[39;00m \u001b[38;5;28;01mimport\u001b[39;00m OLS\n\u001b[0;32m----> 3\u001b[0m res\u001b[38;5;241m=\u001b[39mOLS(y,\u001b[43mx\u001b[49m)\u001b[38;5;241m.\u001b[39mfit()\n\u001b[1;32m      5\u001b[0m \u001b[38;5;28mprint\u001b[39m(res\u001b[38;5;241m.\u001b[39msummary())\n",
      "\u001b[0;31mNameError\u001b[0m: name 'x' is not defined"
     ]
    },
    {
     "name": "stdout",
     "output_type": "stream",
     "text": [
      "ERROR! Session/line number was not unique in database. History logging moved to new session 357\n"
     ]
    }
   ],
   "source": [
    "from statsmodels.regression.linear_model import OLS\n",
    "\n",
    "res=OLS(y,x).fit()\n",
    "\n",
    "print(res.summary())"
   ]
  },
  {
   "cell_type": "code",
   "execution_count": 54,
   "id": "758c0f01-67b8-4c3a-8530-ffa82c362e87",
   "metadata": {},
   "outputs": [
    {
     "ename": "NameError",
     "evalue": "name 'res' is not defined",
     "output_type": "error",
     "traceback": [
      "\u001b[0;31m---------------------------------------------------------------------------\u001b[0m",
      "\u001b[0;31mNameError\u001b[0m                                 Traceback (most recent call last)",
      "Input \u001b[0;32mIn [54]\u001b[0m, in \u001b[0;36m<module>\u001b[0;34m\u001b[0m\n\u001b[0;32m----> 1\u001b[0m \u001b[43mres\u001b[49m\u001b[38;5;241m.\u001b[39mparams\n",
      "\u001b[0;31mNameError\u001b[0m: name 'res' is not defined"
     ]
    }
   ],
   "source": [
    "res.params"
   ]
  },
  {
   "cell_type": "code",
   "execution_count": null,
   "id": "bbbba7af-9412-40fd-9daf-040e832d6089",
   "metadata": {},
   "outputs": [],
   "source": [
    "x=np.linspace(min(np.log(g_df[''])), max(np.log(g['gdp_cap'])), 100)\n",
    "\n",
    "regression_line=res.params['intercept']+res.params['gdp_cap']*x\n",
    "\n",
    "ax.plot(x, regression_line,color='red')\n",
    "fig"
   ]
  }
 ],
 "metadata": {
  "kernelspec": {
   "display_name": "Python 3 (ipykernel)",
   "language": "python",
   "name": "python3"
  },
  "language_info": {
   "codemirror_mode": {
    "name": "ipython",
    "version": 3
   },
   "file_extension": ".py",
   "mimetype": "text/x-python",
   "name": "python",
   "nbconvert_exporter": "python",
   "pygments_lexer": "ipython3",
   "version": "3.9.9"
  }
 },
 "nbformat": 4,
 "nbformat_minor": 5
}
